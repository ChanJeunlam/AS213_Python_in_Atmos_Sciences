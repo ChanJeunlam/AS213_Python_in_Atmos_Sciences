{
 "cells": [
  {
   "cell_type": "markdown",
   "metadata": {
    "slideshow": {
     "slide_type": "slide"
    }
   },
   "source": [
    "# Xarray 数据处理（2）"
   ]
  },
  {
   "cell_type": "code",
   "execution_count": 1,
   "metadata": {
    "slideshow": {
     "slide_type": "slide"
    }
   },
   "outputs": [],
   "source": [
    "import xarray as xr\n",
    "import numpy as np\n",
    "import pandas as pd\n",
    "import matplotlib.pyplot as plt\n",
    "\n",
    "%matplotlib inline"
   ]
  },
  {
   "cell_type": "code",
   "execution_count": 2,
   "metadata": {
    "slideshow": {
     "slide_type": "fragment"
    }
   },
   "outputs": [],
   "source": [
    "air_temp = xr.tutorial.load_dataset('air_temperature')"
   ]
  },
  {
   "cell_type": "markdown",
   "metadata": {
    "slideshow": {
     "slide_type": "slide"
    }
   },
   "source": [
    "## 7. 广播和对齐"
   ]
  },
  {
   "cell_type": "markdown",
   "metadata": {
    "slideshow": {
     "slide_type": "fragment"
    }
   },
   "source": [
    "\n",
    "* 可以直接在 `Dataset` 和 `DataArray` 对象上进行算术运算。\n",
    "* 标签会被保留，在运算中 dataArray 的维度会自动对齐。"
   ]
  },
  {
   "cell_type": "markdown",
   "metadata": {
    "slideshow": {
     "slide_type": "slide"
    }
   },
   "source": [
    "### 广播\n",
    "\n",
    "<img src=\"./broadcast.png\" width=\"５0%\" align=\"left\"> "
   ]
  },
  {
   "cell_type": "code",
   "execution_count": 3,
   "metadata": {
    "jupyter": {
     "outputs_hidden": false
    },
    "slideshow": {
     "slide_type": "slide"
    }
   },
   "outputs": [
    {
     "data": {
      "text/plain": [
       "<xarray.DataArray (time: 3, space: 4)>\n",
       "array([[0, 1, 2, 3],\n",
       "       [1, 2, 3, 4],\n",
       "       [2, 3, 4, 5]])\n",
       "Coordinates:\n",
       "  * time     (time) int64 0 1 2\n",
       "  * space    (space) int64 0 1 2 3"
      ]
     },
     "execution_count": 3,
     "metadata": {},
     "output_type": "execute_result"
    }
   ],
   "source": [
    "import numpy as np\n",
    "import xarray as xr\n",
    "\n",
    "a = xr.DataArray(np.arange(3), dims='time', \n",
    "                 coords={'time':np.arange(3)})\n",
    "b = xr.DataArray(np.arange(4), dims='space', \n",
    "                 coords={'space':np.arange(4)})\n",
    "a + b"
   ]
  },
  {
   "cell_type": "markdown",
   "metadata": {
    "slideshow": {
     "slide_type": "slide"
    }
   },
   "source": [
    "\n",
    "### 对齐\n",
    "\n",
    "<img src=\"./align.png\" width=\"５0%\" align=\"left\"> "
   ]
  },
  {
   "cell_type": "code",
   "execution_count": 4,
   "metadata": {
    "jupyter": {
     "outputs_hidden": false
    },
    "slideshow": {
     "slide_type": "subslide"
    }
   },
   "outputs": [
    {
     "data": {
      "text/plain": [
       "(array([0, 1, 2]), array([1, 2, 3, 4, 5]))"
      ]
     },
     "execution_count": 4,
     "metadata": {},
     "output_type": "execute_result"
    }
   ],
   "source": [
    "atime = np.arange(3)\n",
    "btime = np.arange(5) + 1\n",
    "atime, btime"
   ]
  },
  {
   "cell_type": "code",
   "execution_count": 5,
   "metadata": {
    "jupyter": {
     "outputs_hidden": false
    },
    "slideshow": {
     "slide_type": "subslide"
    }
   },
   "outputs": [
    {
     "data": {
      "text/plain": [
       "<xarray.DataArray (time: 2)>\n",
       "array([1, 3])\n",
       "Coordinates:\n",
       "  * time     (time) int64 1 2"
      ]
     },
     "execution_count": 5,
     "metadata": {},
     "output_type": "execute_result"
    }
   ],
   "source": [
    "a = xr.DataArray(np.arange(3), dims='time', \n",
    "                 coords={'time':atime})\n",
    "b = xr.DataArray(np.arange(5), dims='time', \n",
    "                 coords={'time':btime})\n",
    "a + b"
   ]
  },
  {
   "cell_type": "code",
   "execution_count": 6,
   "metadata": {
    "slideshow": {
     "slide_type": "subslide"
    }
   },
   "outputs": [
    {
     "name": "stdout",
     "output_type": "stream",
     "text": [
      "<xarray.DataArray (time: 6)>\n",
      "array([nan,  1.,  3., nan, nan, nan])\n",
      "Coordinates:\n",
      "  * time     (time) int64 0 1 2 3 4 5\n"
     ]
    }
   ],
   "source": [
    "# 也可以保留所有坐标\n",
    "with xr.set_options(arithmetic_join=\"outer\"):\n",
    "    print(a + b)\n",
    "    \n",
    "# 注意：没有对应坐标的点被设置为 nan "
   ]
  },
  {
   "cell_type": "markdown",
   "metadata": {
    "slideshow": {
     "slide_type": "slide"
    }
   },
   "source": [
    "### 使用 `.where()`　进行屏蔽"
   ]
  },
  {
   "cell_type": "code",
   "execution_count": 7,
   "metadata": {
    "jupyter": {
     "outputs_hidden": false
    },
    "slideshow": {
     "slide_type": "subslide"
    }
   },
   "outputs": [
    {
     "data": {
      "text/plain": [
       "<matplotlib.collections.QuadMesh at 0x7f37c11d1190>"
      ]
     },
     "execution_count": 7,
     "metadata": {},
     "output_type": "execute_result"
    },
    {
     "data": {
      "image/png": "[encoded data removed]",
      "text/plain": [
       "<Figure size 432x288 with 2 Axes>"
      ]
     },
     "metadata": {
      "needs_background": "light"
     },
     "output_type": "display_data"
    }
   ],
   "source": [
    "means = air_temp.air.mean(dim=['time'])\n",
    "means.where(means > 273.15).plot()"
   ]
  },
  {
   "cell_type": "markdown",
   "metadata": {
    "slideshow": {
     "slide_type": "slide"
    }
   },
   "source": [
    "## 8. 分组　Groupby"
   ]
  },
  {
   "cell_type": "markdown",
   "metadata": {
    "slideshow": {
     "slide_type": "fragment"
    }
   },
   "source": [
    "\n",
    "xarray 支持和 pandas 类似的分组（“group by”）操作来实现拆散－应用－合并： \n",
    "\n",
    "- 将数据根据一定的规则拆散为独立的组\n",
    "- 对每个组应用某种函数\n",
    "- 将这些组合并成一个单一的数据对象\n",
    "\n",
    "分组操作对于 Dataset 和 DataArray 对象都适用。 "
   ]
  },
  {
   "cell_type": "markdown",
   "metadata": {
    "slideshow": {
     "slide_type": "subslide"
    }
   },
   "source": [
    "<img src=\"./split_apply-combine.png\" alt=\"split\" style=\"width: 50%;\"/>"
   ]
  },
  {
   "cell_type": "code",
   "execution_count": 8,
   "metadata": {
    "jupyter": {
     "outputs_hidden": false
    },
    "slideshow": {
     "slide_type": "subslide"
    }
   },
   "outputs": [
    {
     "data": {
      "text/plain": [
       "<xarray.DataArray 'air' (season: 4)>\n",
       "array([273.6497 , 289.2049 , 278.9914 , 283.02814], dtype=float32)\n",
       "Coordinates:\n",
       "  * season   (season) object 'DJF' 'JJA' 'MAM' 'SON'"
      ]
     },
     "execution_count": 8,
     "metadata": {},
     "output_type": "execute_result"
    }
   ],
   "source": [
    "air_temp.air.mean(dim=['lat','lon']).groupby('time.season').mean()\n",
    "# air_temp.air.groupby('time.season').mean().mean(dim=['lat','lon'])"
   ]
  },
  {
   "cell_type": "code",
   "execution_count": 9,
   "metadata": {
    "slideshow": {
     "slide_type": "subslide"
    }
   },
   "outputs": [],
   "source": [
    "clim = air_temp.air.groupby('time.month').mean('time')"
   ]
  },
  {
   "cell_type": "code",
   "execution_count": 10,
   "metadata": {
    "slideshow": {
     "slide_type": "fragment"
    }
   },
   "outputs": [
    {
     "data": {
      "text/plain": [
       "<xarray.DataArray 'air' (month: 12, lat: 25, lon: 53)>\n",
       "array([[[246.34987, 246.38608, 246.21518, ..., 243.06113, 244.08795,\n",
       "         245.6467 ],\n",
       "        [248.8576 , 248.90733, 248.7104 , ..., 241.52866, 243.50865,\n",
       "         246.75471],\n",
       "        [251.57712, 251.19661, 250.71463, ..., 243.39891, 246.78462,\n",
       "         251.56572],\n",
       "        ...,\n",
       "        [295.85028, 295.24405, 295.22684, ..., 295.18625, 294.65707,\n",
       "         294.0485 ],\n",
       "        [296.5446 , 296.46982, 296.15994, ..., 295.35593, 295.0812 ,\n",
       "         294.53006],\n",
       "        [297.15417, 297.2383 , 297.04892, ..., 296.01797, 295.77554,\n",
       "         295.63647]],\n",
       "\n",
       "       [[246.67715, 246.40576, 245.9484 , ..., 241.85838, 243.0021 ,\n",
       "         244.44383],\n",
       "        [247.8001 , 247.75992, 247.47757, ..., 240.64706, 242.26633,\n",
       "         245.06662],\n",
       "        [249.07079, 248.57234, 247.94254, ..., 242.42874, 245.33348,\n",
       "         249.72273],\n",
       "        ...,\n",
       "        [295.92886, 295.41788, 295.16602, ..., 294.4443 , 293.78143,\n",
       "         293.18265],\n",
       "        [296.78754, 296.63443, 296.15707, ..., 294.51166, 294.2178 ,\n",
       "         293.70258],\n",
       "        [297.2889 , 297.2165 , 296.85797, ..., 295.16058, 294.9558 ,\n",
       "         294.87967]],\n",
       "\n",
       "       [[251.03168, 250.67987, 250.18945, ..., 242.19398, 243.11484,\n",
       "         244.30956],\n",
       "        [252.97194, 252.86617, 252.57347, ..., 241.61102, 243.02509,\n",
       "         245.38196],\n",
       "        [254.46768, 254.09142, 253.63428, ..., 241.67184, 244.49664,\n",
       "         248.74258],\n",
       "        ...,\n",
       "        [295.65652, 295.24582, 295.22464, ..., 294.7663 , 294.16412,\n",
       "         293.6729 ],\n",
       "        [296.70294, 296.68756, 296.3824 , ..., 294.85083, 294.57034,\n",
       "         294.15213],\n",
       "        [297.38174, 297.4631 , 297.22668, ..., 295.3349 , 295.11124,\n",
       "         295.01654]],\n",
       "\n",
       "       ...,\n",
       "\n",
       "       [[261.8136 , 261.21255, 260.5036 , ..., 248.19336, 249.06995,\n",
       "         250.41624],\n",
       "        [269.02225, 268.92944, 268.71478, ..., 246.41554, 248.16833,\n",
       "         251.14897],\n",
       "        [269.64017, 268.7958 , 268.45483, ..., 246.01215, 249.6174 ,\n",
       "         254.69598],\n",
       "        ...,\n",
       "        [299.09723, 298.30466, 297.9945 , ..., 299.09454, 298.6955 ,\n",
       "         298.29483],\n",
       "        [299.43155, 299.23853, 298.7375 , ..., 299.2589 , 299.28873,\n",
       "         299.0363 ],\n",
       "        [299.37054, 299.42462, 299.15607, ..., 299.72403, 299.66312,\n",
       "         299.76233]],\n",
       "\n",
       "       [[253.74484, 253.64487, 253.49716, ..., 242.96066, 243.9345 ,\n",
       "         245.14209],\n",
       "        [259.12967, 258.62927, 258.19144, ..., 241.84921, 243.07965,\n",
       "         245.46625],\n",
       "        [261.04227, 258.83536, 257.51193, ..., 242.38234, 245.13663,\n",
       "         249.52368],\n",
       "        ...,\n",
       "        [297.8426 , 297.1406 , 296.98773, ..., 297.96884, 297.56888,\n",
       "         297.1611 ],\n",
       "        [298.58783, 298.42026, 297.96896, ..., 298.16412, 298.19397,\n",
       "         297.9083 ],\n",
       "        [298.81143, 298.8566 , 298.62103, ..., 298.72955, 298.7519 ,\n",
       "         298.8189 ]],\n",
       "\n",
       "       [[247.971  , 248.02118, 247.91302, ..., 239.7719 , 241.02383,\n",
       "         242.62823],\n",
       "        [249.73361, 250.16037, 250.48581, ..., 238.78964, 240.96469,\n",
       "         244.11626],\n",
       "        [252.0296 , 251.53136, 251.36629, ..., 238.07542, 241.91293,\n",
       "         247.06987],\n",
       "        ...,\n",
       "        [296.76508, 295.97668, 295.88922, ..., 296.45605, 296.09137,\n",
       "         295.65756],\n",
       "        [297.46814, 297.38025, 297.04428, ..., 296.8556 , 296.84668,\n",
       "         296.52133],\n",
       "        [297.8809 , 297.9868 , 297.77554, ..., 297.60034, 297.5655 ,\n",
       "         297.53763]]], dtype=float32)\n",
       "Coordinates:\n",
       "  * lat      (lat) float32 75.0 72.5 70.0 67.5 65.0 ... 25.0 22.5 20.0 17.5 15.0\n",
       "  * lon      (lon) float32 200.0 202.5 205.0 207.5 ... 322.5 325.0 327.5 330.0\n",
       "  * month    (month) int64 1 2 3 4 5 6 7 8 9 10 11 12"
      ]
     },
     "execution_count": 10,
     "metadata": {},
     "output_type": "execute_result"
    }
   ],
   "source": [
    "clim"
   ]
  },
  {
   "cell_type": "markdown",
   "metadata": {
    "slideshow": {
     "slide_type": "slide"
    }
   },
   "source": [
    "我们也可以对拆分的组应用算术运算"
   ]
  },
  {
   "cell_type": "code",
   "execution_count": 11,
   "metadata": {
    "slideshow": {
     "slide_type": "fragment"
    }
   },
   "outputs": [],
   "source": [
    "anomalies = air_temp.air.groupby('time.month') - clim"
   ]
  },
  {
   "cell_type": "code",
   "execution_count": 12,
   "metadata": {
    "slideshow": {
     "slide_type": "fragment"
    }
   },
   "outputs": [
    {
     "data": {
      "text/plain": [
       "<xarray.DataArray 'air' (time: 2920, lat: 25, lon: 53)>\n",
       "array([[[ -5.149872  ,  -3.886078  ,  -2.7151794 , ..., -10.261139  ,\n",
       "          -8.587952  ,  -7.046707  ],\n",
       "        [ -5.057617  ,  -4.4073334 ,  -4.0104065 , ...,  -8.728668  ,\n",
       "          -8.208664  ,  -7.454727  ],\n",
       "        [ -1.5771179 ,  -1.3966217 ,  -1.8246307 , ..., -10.198914  ,\n",
       "         -10.394623  ,  -9.865723  ],\n",
       "        ...,\n",
       "        [  0.74972534,   0.9559326 ,   1.1731567 , ...,   0.21374512,\n",
       "           0.44293213,   0.65148926],\n",
       "        [ -0.6445923 ,  -0.26983643,   0.6300659 , ...,   0.5440674 ,\n",
       "           0.8187866 ,   0.6699219 ],\n",
       "        [ -0.86416626,  -0.44830322,   0.05108643, ...,   0.88201904,\n",
       "           1.0144653 ,   0.9635315 ]],\n",
       "\n",
       "       [[ -4.249878  ,  -3.686081  ,  -3.1151886 , ..., -11.061127  ,\n",
       "         -10.487961  ,  -9.84671   ],\n",
       "        [ -5.257614  ,  -4.8073425 ,  -4.5104065 , ..., -10.528656  ,\n",
       "         -11.008652  , -11.054718  ],\n",
       "        [  1.622879  ,   1.6933899 ,   1.3853607 , ..., -12.598923  ,\n",
       "         -13.394623  , -13.06572   ],\n",
       "        ...,\n",
       "        [  0.54971313,   0.6559448 ,   0.97314453, ...,   0.21374512,\n",
       "           0.44293213,   0.7415161 ],\n",
       "        [ -0.3446045 ,   0.23016357,   0.6300659 , ...,   0.24407959,\n",
       "           0.41879272,   0.5699463 ],\n",
       "        [ -0.86416626,  -0.03833008,   0.35107422, ...,   0.38201904,\n",
       "           0.6244507 ,   0.9635315 ]],\n",
       "\n",
       "       [[ -4.049881  ,  -4.186081  ,  -3.9151917 , ...,  -8.761139  ,\n",
       "          -7.987961  ,  -6.946701  ],\n",
       "        [ -4.257614  ,  -4.517334  ,  -4.7104034 , ..., -11.228668  ,\n",
       "         -11.508652  , -11.054718  ],\n",
       "        [  4.622864  ,   4.3033905 ,   3.4853668 , ..., -12.198914  ,\n",
       "         -13.584625  , -13.365723  ],\n",
       "        ...,\n",
       "        [ -0.25027466,   0.15594482,   0.17315674, ...,   1.1037598 ,\n",
       "           0.6329346 ,   0.95150757],\n",
       "        [ -0.3446045 ,   0.03018188,   0.13006592, ...,   1.0440674 ,\n",
       "           0.9187927 ,   1.0699463 ],\n",
       "        [ -0.7541809 ,  -0.9483032 ,  -0.6489258 , ...,   0.98202515,\n",
       "           1.2244568 ,   1.1535339 ]],\n",
       "\n",
       "       ...,\n",
       "\n",
       "       [[ -4.481003  ,  -5.031189  ,  -5.8230286 , ...,   4.418091  ,\n",
       "           3.466156  ,   2.2617645 ],\n",
       "        [ -0.6436157 ,  -1.1703796 ,  -1.895813  , ...,   1.800354  ,\n",
       "           0.32530212,  -1.4262695 ],\n",
       "        [ 10.6604    ,  10.658646  ,  10.323715  , ...,   1.3145752 ,\n",
       "          -0.22294617,  -1.8798828 ],\n",
       "        ...,\n",
       "        [ -1.9750671 ,  -0.686676  ,   1.600769  , ...,  -0.96606445,\n",
       "          -0.7013855 ,  -0.9675598 ],\n",
       "        [ -0.6781311 ,   0.5097351 ,   1.2457275 , ...,  -1.3656006 ,\n",
       "          -1.3566895 ,  -1.7313232 ],\n",
       "        [  0.30911255,   1.2032166 ,   1.0144653 , ...,  -1.5103455 ,\n",
       "          -1.7754822 ,  -1.7476196 ]],\n",
       "\n",
       "       [[ -2.1809998 ,  -3.231186  ,  -4.4230347 , ...,   3.518097  ,\n",
       "           2.966156  ,   2.1617584 ],\n",
       "        [  0.15638733,  -0.8703766 ,  -1.9958191 , ...,   2.500351  ,\n",
       "           1.5252991 ,   0.17373657],\n",
       "        [ 10.360382  ,  10.258652  ,   9.923721  , ...,   2.414566  ,\n",
       "           1.177063  ,  -0.1798706 ],\n",
       "        ...,\n",
       "        [ -3.0750732 ,  -2.0867004 ,  -0.49923706, ...,  -1.3660583 ,\n",
       "          -1.4013672 ,  -1.3675537 ],\n",
       "        [ -1.1781311 ,  -0.19024658,   0.54571533, ...,  -1.5655823 ,\n",
       "          -1.7566833 ,  -2.1313477 ],\n",
       "        [ -0.09088135,   0.40319824,   0.714447  , ...,  -1.9103394 ,\n",
       "          -2.0755005 ,  -2.3476257 ]],\n",
       "\n",
       "       [[ -2.8809967 ,  -3.731186  ,  -4.6230316 , ...,   1.9180908 ,\n",
       "           0.466156  ,  -0.8382416 ],\n",
       "        [  0.15638733,  -0.8703766 ,  -2.09581   , ...,   0.800354  ,\n",
       "          -0.6746979 ,  -2.4262695 ],\n",
       "        [ 10.960388  ,  10.658646  ,  10.023697  , ...,   1.8145752 ,\n",
       "           0.677063  ,  -0.7798767 ],\n",
       "        ...,\n",
       "        [ -2.9750671 ,  -2.2866821 ,  -0.79922485, ...,  -1.1660461 ,\n",
       "          -1.0013733 ,  -0.9675598 ],\n",
       "        [ -1.3781433 ,  -0.4902649 ,   0.14572144, ...,  -1.1655884 ,\n",
       "          -1.1566772 ,  -1.3313293 ],\n",
       "        [ -0.19088745,   0.10321045,   0.31445312, ...,  -1.1103516 ,\n",
       "          -1.3754883 ,  -1.8476257 ]]], dtype=float32)\n",
       "Coordinates:\n",
       "  * lon      (lon) float32 200.0 202.5 205.0 207.5 ... 322.5 325.0 327.5 330.0\n",
       "  * lat      (lat) float32 75.0 72.5 70.0 67.5 65.0 ... 25.0 22.5 20.0 17.5 15.0\n",
       "  * time     (time) datetime64[ns] 2013-01-01 ... 2014-12-31T18:00:00\n",
       "    month    (time) int64 1 1 1 1 1 1 1 1 1 1 ... 12 12 12 12 12 12 12 12 12 12"
      ]
     },
     "execution_count": 12,
     "metadata": {},
     "output_type": "execute_result"
    }
   ],
   "source": [
    "anomalies"
   ]
  },
  {
   "cell_type": "markdown",
   "metadata": {
    "slideshow": {
     "slide_type": "subslide"
    }
   },
   "source": [
    "注意 xarray 自动改变了 clim 的 month 维度以适应 air 的 time 维度。这也是 xarray 的“广播”功能的优势之一：它会自动根据维度的名字来匹配，我们也不需要像 numpy 那样使用 reshape 来改变数组的形状或者插入一个长度为１的维度 。"
   ]
  },
  {
   "cell_type": "code",
   "execution_count": 13,
   "metadata": {
    "slideshow": {
     "slide_type": "fragment"
    }
   },
   "outputs": [
    {
     "data": {
      "text/plain": [
       "(array([8.400000e+01, 9.000000e+02, 1.145500e+04, 9.761600e+04,\n",
       "        5.205310e+05, 2.676686e+06, 4.679230e+05, 8.459900e+04,\n",
       "        8.757000e+03, 4.490000e+02]),\n",
       " array([-33.740555 , -27.573364 , -21.406174 , -15.238983 ,  -9.071793 ,\n",
       "         -2.904602 ,   3.2625885,   9.429779 ,  15.59697  ,  21.76416  ,\n",
       "         27.93135  ], dtype=float32),\n",
       " <a list of 10 Patch objects>)"
      ]
     },
     "execution_count": 13,
     "metadata": {},
     "output_type": "execute_result"
    },
    {
     "data": {
      "image/png": "[encoded data removed]",
      "text/plain": [
       "<Figure size 432x288 with 1 Axes>"
      ]
     },
     "metadata": {
      "needs_background": "light"
     },
     "output_type": "display_data"
    }
   ],
   "source": [
    "anomalies.plot()"
   ]
  },
  {
   "cell_type": "code",
   "execution_count": 14,
   "metadata": {
    "slideshow": {
     "slide_type": "subslide"
    }
   },
   "outputs": [
    {
     "data": {
      "text/plain": [
       "(array([5.0000e+01, 7.0800e+02, 4.2130e+03, 1.4026e+04, 3.8860e+04,\n",
       "        8.7334e+04, 1.4104e+04, 3.9360e+03, 9.3300e+02, 1.3600e+02]),\n",
       " array([-27.580475 , -22.353567 , -17.12666  , -11.899753 ,  -6.6728454,\n",
       "         -1.4459381,   3.7809691,   9.007876 ,  14.234784 ,  19.46169  ,\n",
       "         24.688599 ], dtype=float32),\n",
       " <a list of 10 Patch objects>)"
      ]
     },
     "execution_count": 14,
     "metadata": {},
     "output_type": "execute_result"
    },
    {
     "data": {
      "image/png": "[encoded data removed]",
      "text/plain": [
       "<Figure size 432x288 with 1 Axes>"
      ]
     },
     "metadata": {
      "needs_background": "light"
     },
     "output_type": "display_data"
    }
   ],
   "source": [
    "anomalies.sel(time='2013-12').plot()"
   ]
  },
  {
   "cell_type": "markdown",
   "metadata": {
    "slideshow": {
     "slide_type": "subslide"
    }
   },
   "source": [
    "### 重采样 Resample\n",
    "\n",
    "重采样将时间序列改变为新的时间间隔"
   ]
  },
  {
   "cell_type": "code",
   "execution_count": 15,
   "metadata": {
    "slideshow": {
     "slide_type": "fragment"
    }
   },
   "outputs": [],
   "source": [
    "tmin = air_temp.air.resample(time='1D').min()  # Resample to one day '1D\n",
    "tmax = air_temp.air.resample(time='1D').max()"
   ]
  },
  {
   "cell_type": "code",
   "execution_count": 16,
   "metadata": {
    "slideshow": {
     "slide_type": "subslide"
    }
   },
   "outputs": [
    {
     "data": {
      "text/plain": [
       "<matplotlib.collections.QuadMesh at 0x7f37c0fe7a10>"
      ]
     },
     "execution_count": 16,
     "metadata": {},
     "output_type": "execute_result"
    },
    {
     "data": {
      "image/png": "[encoded data removed]",
      "text/plain": [
       "<Figure size 432x288 with 2 Axes>"
      ]
     },
     "metadata": {
      "needs_background": "light"
     },
     "output_type": "display_data"
    }
   ],
   "source": [
    "(tmin.sel(time='2013-08-01')-273.15).plot()"
   ]
  },
  {
   "cell_type": "code",
   "execution_count": 17,
   "metadata": {
    "slideshow": {
     "slide_type": "subslide"
    }
   },
   "outputs": [],
   "source": [
    "ds_extremes = xr.Dataset({'tmin': tmin, 'tmax': tmax})"
   ]
  },
  {
   "cell_type": "code",
   "execution_count": 18,
   "metadata": {
    "jupyter": {
     "outputs_hidden": false
    },
    "slideshow": {
     "slide_type": "fragment"
    }
   },
   "outputs": [
    {
     "data": {
      "text/plain": [
       "<xarray.Dataset>\n",
       "Dimensions:  (lat: 25, lon: 53, time: 730)\n",
       "Coordinates:\n",
       "  * time     (time) datetime64[ns] 2013-01-01 2013-01-02 ... 2014-12-31\n",
       "  * lat      (lat) float32 75.0 72.5 70.0 67.5 65.0 ... 25.0 22.5 20.0 17.5 15.0\n",
       "  * lon      (lon) float32 200.0 202.5 205.0 207.5 ... 322.5 325.0 327.5 330.0\n",
       "Data variables:\n",
       "    tmin     (time, lat, lon) float32 241.2 241.79999 ... 295.49 295.19\n",
       "    tmax     (time, lat, lon) float32 242.29999 242.7 243.5 ... 296.19 295.79"
      ]
     },
     "execution_count": 18,
     "metadata": {},
     "output_type": "execute_result"
    }
   ],
   "source": [
    "ds_extremes"
   ]
  },
  {
   "cell_type": "markdown",
   "metadata": {
    "slideshow": {
     "slide_type": "slide"
    }
   },
   "source": [
    "## 9. 滚动　Rolling\n",
    "\n",
    "xarray 支持滚动窗口操作"
   ]
  },
  {
   "cell_type": "code",
   "execution_count": 22,
   "metadata": {
    "slideshow": {
     "slide_type": "subslide"
    }
   },
   "outputs": [],
   "source": [
    "air_roll = air_temp.air.rolling(time=3,center=True)"
   ]
  },
  {
   "cell_type": "code",
   "execution_count": 23,
   "metadata": {
    "slideshow": {
     "slide_type": "fragment"
    }
   },
   "outputs": [
    {
     "data": {
      "text/plain": [
       "DataArrayRolling [window->3,center->True,dim->time]"
      ]
     },
     "execution_count": 23,
     "metadata": {},
     "output_type": "execute_result"
    }
   ],
   "source": [
    "air_roll"
   ]
  },
  {
   "cell_type": "code",
   "execution_count": 24,
   "metadata": {
    "slideshow": {
     "slide_type": "subslide"
    }
   },
   "outputs": [
    {
     "data": {
      "text/plain": [
       "<xarray.DataArray (time: 2920, lat: 25, lon: 53)>\n",
       "array([[[      nan,       nan,       nan, ...,       nan,       nan,\n",
       "               nan],\n",
       "        [      nan,       nan,       nan, ...,       nan,       nan,\n",
       "               nan],\n",
       "        [      nan,       nan,       nan, ...,       nan,       nan,\n",
       "               nan],\n",
       "        ...,\n",
       "        [      nan,       nan,       nan, ...,       nan,       nan,\n",
       "               nan],\n",
       "        [      nan,       nan,       nan, ...,       nan,       nan,\n",
       "               nan],\n",
       "        [      nan,       nan,       nan, ...,       nan,       nan,\n",
       "               nan]],\n",
       "\n",
       "       [[241.86665, 242.46667, 242.96666, ..., 233.03333, 235.06665,\n",
       "         237.7    ],\n",
       "        [243.99998, 244.33   , 244.3    , ..., 231.36665, 233.26666,\n",
       "         236.90001],\n",
       "        [253.13335, 252.73   , 251.73   , ..., 231.73334, 234.32666,\n",
       "         239.46667],\n",
       "        ...,\n",
       "        [296.19998, 295.83334, 296.     , ..., 295.69666, 295.16333,\n",
       "         294.83   ],\n",
       "        [296.09998, 296.46664, 296.62332, ..., 295.96667, 295.80002,\n",
       "         295.30002],\n",
       "        [296.32666, 296.76   , 296.96667, ..., 296.76666, 296.73   ,\n",
       "         296.66333]],\n",
       "\n",
       "       [[242.09666, 242.23334, 242.4    , ..., 233.56334, 235.06665,\n",
       "         237.36667],\n",
       "        [244.83331, 244.59666, 244.13335, ..., 230.73001, 232.     ,\n",
       "         235.30002],\n",
       "        [255.33334, 254.36334, 252.80002, ..., 230.90001, 232.79666,\n",
       "         237.60002],\n",
       "        ...,\n",
       "        [296.2    , 295.90002, 295.86667, ..., 296.06332, 295.39334,\n",
       "         295.02667],\n",
       "        [296.46664, 296.9    , 296.72668, ..., 296.26337, 296.03336,\n",
       "         295.66336],\n",
       "        [296.72998, 297.06335, 297.10004, ..., 297.06335, 297.13336,\n",
       "         297.09668]],\n",
       "\n",
       "       ...,\n",
       "\n",
       "       [[243.92358, 243.39023, 242.58987, ..., 244.42369, 245.0904 ,\n",
       "         245.65619],\n",
       "        [249.12335, 249.0236 , 248.65671, ..., 240.89026, 241.9232 ,\n",
       "         243.5903 ],\n",
       "        [262.92392, 262.42352, 261.82324, ..., 239.32329, 241.9566 ,\n",
       "         245.92334],\n",
       "        ...,\n",
       "        [295.1905 , 295.6234 , 297.15634, ..., 295.4567 , 295.18994,\n",
       "         294.52356],\n",
       "        [296.68994, 297.82315, 298.38974, ..., 295.52313, 295.38968,\n",
       "         294.6566 ],\n",
       "        [298.08994, 298.9566 , 298.88998, ..., 296.1233 , 295.75665,\n",
       "         295.4895 ]],\n",
       "\n",
       "       [[244.79025, 244.02356, 242.95654, ..., 243.057  , 243.32373,\n",
       "         243.82286],\n",
       "        [249.62335, 249.19028, 248.49004, ..., 240.49026, 241.35654,\n",
       "         242.8903 ],\n",
       "        [262.69058, 262.05685, 261.4566 , ..., 239.92328, 242.4566 ,\n",
       "         246.12334],\n",
       "        ...,\n",
       "        [294.09048, 294.2901 , 295.9897 , ..., 295.29004, 295.0566 ,\n",
       "         294.5569 ],\n",
       "        [296.38995, 297.32315, 297.68976, ..., 295.4898 , 295.42303,\n",
       "         294.78992],\n",
       "        [297.88995, 298.55658, 298.45667, ..., 296.08997, 295.8233 ,\n",
       "         295.55618]],\n",
       "\n",
       "       [[      nan,       nan,       nan, ...,       nan,       nan,\n",
       "               nan],\n",
       "        [      nan,       nan,       nan, ...,       nan,       nan,\n",
       "               nan],\n",
       "        [      nan,       nan,       nan, ...,       nan,       nan,\n",
       "               nan],\n",
       "        ...,\n",
       "        [      nan,       nan,       nan, ...,       nan,       nan,\n",
       "               nan],\n",
       "        [      nan,       nan,       nan, ...,       nan,       nan,\n",
       "               nan],\n",
       "        [      nan,       nan,       nan, ...,       nan,       nan,\n",
       "               nan]]], dtype=float32)\n",
       "Coordinates:\n",
       "  * lat      (lat) float32 75.0 72.5 70.0 67.5 65.0 ... 25.0 22.5 20.0 17.5 15.0\n",
       "  * lon      (lon) float32 200.0 202.5 205.0 207.5 ... 322.5 325.0 327.5 330.0\n",
       "  * time     (time) datetime64[ns] 2013-01-01 ... 2014-12-31T18:00:00"
      ]
     },
     "execution_count": 24,
     "metadata": {},
     "output_type": "execute_result"
    }
   ],
   "source": [
    "air_roll.mean()"
   ]
  },
  {
   "cell_type": "code",
   "execution_count": null,
   "metadata": {},
   "outputs": [],
   "source": []
  }
 ],
 "metadata": {
  "kernelspec": {
   "display_name": "Python 3",
   "language": "python",
   "name": "python3"
  },
  "language_info": {
   "codemirror_mode": {
    "name": "ipython",
    "version": 3
   },
   "file_extension": ".py",
   "mimetype": "text/x-python",
   "name": "python",
   "nbconvert_exporter": "python",
   "pygments_lexer": "ipython3",
   "version": "3.7.6"
  }
 },
 "nbformat": 4,
 "nbformat_minor": 2
}
