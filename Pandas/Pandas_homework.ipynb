{
 "cells": [
  {
   "cell_type": "markdown",
   "metadata": {},
   "source": [
    "# 作业：处理香港的臭氧污染数据"
   ]
  },
  {
   "cell_type": "markdown",
   "metadata": {},
   "source": [
    "地表附近的臭氧是珠三角地区主要的污染物。文件 `O3_HK_2000_new.csv` 保存的是香港 2000 年 14 个地面观测站逐小时的臭氧浓度（单位 $\\mu$g m$^{-3}$）。\n",
    "\n",
    "注意：DAY 表示的是一年中的第几天（请查阅课件了解如何在 `strftime` 中用符号表示该时间）。"
   ]
  },
  {
   "cell_type": "markdown",
   "metadata": {},
   "source": [
    "## 1. 使用 `pandas` 读取该文件，并使用时间来作为索引。"
   ]
  },
  {
   "cell_type": "markdown",
   "metadata": {},
   "source": [
    "提示：HOUR 的值是从 1 到 24，无法用`strftime` 中用符号表示，请考虑使用 `DateOffset` 来转换时间格式。 "
   ]
  },
  {
   "cell_type": "code",
   "execution_count": null,
   "metadata": {},
   "outputs": [],
   "source": []
  },
  {
   "cell_type": "markdown",
   "metadata": {},
   "source": [
    "## 2. 查看读取的数据信息，删除全部都是缺失值的站点"
   ]
  },
  {
   "cell_type": "code",
   "execution_count": null,
   "metadata": {},
   "outputs": [],
   "source": []
  },
  {
   "cell_type": "markdown",
   "metadata": {},
   "source": [
    "## 3. 找出每个站点的最大值、最小值和平均值"
   ]
  },
  {
   "cell_type": "code",
   "execution_count": null,
   "metadata": {},
   "outputs": [],
   "source": []
  },
  {
   "cell_type": "markdown",
   "metadata": {},
   "source": [
    "## 4. 找出2000年香港臭氧浓度的最大值，并找出该最大值出现在何时、何地。"
   ]
  },
  {
   "cell_type": "code",
   "execution_count": null,
   "metadata": {},
   "outputs": [],
   "source": []
  },
  {
   "cell_type": "markdown",
   "metadata": {},
   "source": [
    "## 5. 计算臭氧浓度的年均日变化，并画图，有哪个站点的平均浓度一直比其它站点高？"
   ]
  },
  {
   "cell_type": "markdown",
   "metadata": {},
   "source": [
    "提示：即全年按照小时的平均值 （按 `hour` 值分组、平均）。\n",
    "\n",
    "使用 ax = df.plot() 可以直接绘制一个 DataFrame df 的各列数据, 并使用 ax.legend(bbox_to_anchor=(1.01,0.9)) 把图例放到画图区域的外面。"
   ]
  },
  {
   "cell_type": "code",
   "execution_count": null,
   "metadata": {},
   "outputs": [],
   "source": []
  },
  {
   "cell_type": "markdown",
   "metadata": {},
   "source": [
    "## 6. 计算 8 小时滚动平均浓度"
   ]
  },
  {
   "cell_type": "markdown",
   "metadata": {},
   "source": [
    "8 小时滚动平均浓度是臭氧观测的一个重要指标。"
   ]
  },
  {
   "cell_type": "code",
   "execution_count": null,
   "metadata": {},
   "outputs": [],
   "source": []
  },
  {
   "cell_type": "markdown",
   "metadata": {},
   "source": [
    "## 7. 找出全年污染浓度超标的天数"
   ]
  },
  {
   "cell_type": "markdown",
   "metadata": {},
   "source": [
    "香港臭氧浓度目标为每天最大 8 小时平均浓度小于 160 $\\mu$g m$^{-3}$ （任何一个观测站超过此最大值，则当天香港空气质量不达标），每年超过此标准的天数不得多于 9 天\n",
    "(https://www.epd.gov.hk/epd/english/environmentinhk/air/air_quality_objectives/air_quality_objectives.html)。\n",
    "\n",
    "请你找出 2000 年有哪些天污染浓度超过这个标准？一共有多少天？全年的污染超标了吗（多于9天）？"
   ]
  },
  {
   "cell_type": "code",
   "execution_count": null,
   "metadata": {},
   "outputs": [],
   "source": []
  },
  {
   "cell_type": "markdown",
   "metadata": {},
   "source": [
    "## 8.（加分题）该数据的原始数据在文件 `2000_EN.xlsx` 中。请尝试将该文件的臭氧数据转换成 `O3_HK_2000_new.csv` 中的形式"
   ]
  },
  {
   "cell_type": "markdown",
   "metadata": {},
   "source": [
    "注意：时间可以不用拆分成 `YEAR`,`DAY` 和 `HOUR`。重点是如何将数据表现形式进行转化。提示：请查阅 `pd.pivot` 的功能和用法。"
   ]
  },
  {
   "cell_type": "code",
   "execution_count": null,
   "metadata": {},
   "outputs": [],
   "source": []
  }
 ],
 "metadata": {
  "kernelspec": {
   "display_name": "Python 3",
   "language": "python",
   "name": "python3"
  },
  "language_info": {
   "codemirror_mode": {
    "name": "ipython",
    "version": 3
   },
   "file_extension": ".py",
   "mimetype": "text/x-python",
   "name": "python",
   "nbconvert_exporter": "python",
   "pygments_lexer": "ipython3",
   "version": "3.7.7"
  }
 },
 "nbformat": 4,
 "nbformat_minor": 4
}