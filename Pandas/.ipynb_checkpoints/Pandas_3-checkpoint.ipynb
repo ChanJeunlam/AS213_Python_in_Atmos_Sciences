{
 "cells": [
  {
   "cell_type": "markdown",
   "metadata": {},
   "source": [
    "# `Pandas` - 3\n",
    "<div>\n",
    "<img src='https://pandas.pydata.org/static/img/pandas.svg' width='400'/>\n",
    "</div>\n",
    "\n",
    "-----------------\n",
    "主讲人：李显祥\n",
    "\n",
    "大气科学学院"
   ]
  },
  {
   "cell_type": "code",
   "execution_count": 1,
   "metadata": {
    "slideshow": {
     "slide_type": "-"
    }
   },
   "outputs": [],
   "source": [
    "import pandas as pd\n",
    "import numpy as np"
   ]
  },
  {
   "cell_type": "markdown",
   "metadata": {
    "slideshow": {
     "slide_type": "slide"
    }
   },
   "source": [
    "## 7. 时间序列"
   ]
  },
  {
   "cell_type": "markdown",
   "metadata": {
    "slideshow": {
     "slide_type": "subslide"
    }
   },
   "source": [
    "### 7.1 `Python` 时间相关模块\n",
    "\n",
    "时间是一个很重要的物理量。`Python` 中提供了多个关于时间的模块。\n",
    "\n",
    "- `time`\n",
    "\n",
    "- `datetime`\n",
    "\n",
    "- `calendar`\n",
    "\n",
    "- ..."
   ]
  },
  {
   "cell_type": "markdown",
   "metadata": {
    "slideshow": {
     "slide_type": "subslide"
    }
   },
   "source": [
    "#### `time` 模块\n",
    "\n",
    "- `time` 模块是 `Python` 标准库的一部分，它提供了对 Unix 的时间戳（timestamp）的封装，是操作系统平台相关的。\n",
    "\n",
    "- 时间戳是从协调世界时（UTC, Universal Time Coordinated）1970年1月1日0时0分0秒开始到现在的总秒数，不考虑闰秒。只能表示1970-2038年。\n",
    "\n",
    "- 该模块主要包括一个类 `struct_time`，另外其他几个函数及相关常量。\n",
    "\n",
    "- `struct_time` 形式为 `(tm_year, tm_mon, tm_mday, tm_hour, tm_min, tm_sec, tm_wday, tm_yday, tm_isdst1)`"
   ]
  },
  {
   "cell_type": "code",
   "execution_count": 2,
   "metadata": {
    "slideshow": {
     "slide_type": "subslide"
    }
   },
   "outputs": [],
   "source": [
    "import time"
   ]
  },
  {
   "cell_type": "code",
   "execution_count": 3,
   "metadata": {
    "slideshow": {
     "slide_type": "-"
    }
   },
   "outputs": [
    {
     "data": {
      "text/plain": [
       "1606899102.264077"
      ]
     },
     "execution_count": 3,
     "metadata": {},
     "output_type": "execute_result"
    }
   ],
   "source": [
    "time.time()   #返回的是时间戳"
   ]
  },
  {
   "cell_type": "code",
   "execution_count": 4,
   "metadata": {
    "slideshow": {
     "slide_type": "fragment"
    }
   },
   "outputs": [
    {
     "data": {
      "text/plain": [
       "'Wed Dec  2 16:51:42 2020'"
      ]
     },
     "execution_count": 4,
     "metadata": {},
     "output_type": "execute_result"
    }
   ],
   "source": [
    "time.ctime()  #返回字符串形式的时间，可以传入时间戳格式时间，用来做转化"
   ]
  },
  {
   "cell_type": "code",
   "execution_count": 5,
   "metadata": {
    "slideshow": {
     "slide_type": "fragment"
    }
   },
   "outputs": [
    {
     "data": {
      "text/plain": [
       "time.struct_time(tm_year=2020, tm_mon=12, tm_mday=2, tm_hour=16, tm_min=51, tm_sec=42, tm_wday=2, tm_yday=337, tm_isdst=0)"
      ]
     },
     "execution_count": 5,
     "metadata": {},
     "output_type": "execute_result"
    }
   ],
   "source": [
    "time.localtime()  #返回当前时间的struct_time形式，可传入时间戳格式时间，用来做转化"
   ]
  },
  {
   "cell_type": "code",
   "execution_count": 6,
   "metadata": {
    "slideshow": {
     "slide_type": "fragment"
    }
   },
   "outputs": [
    {
     "data": {
      "text/plain": [
       "time.struct_time(tm_year=2020, tm_mon=12, tm_mday=2, tm_hour=8, tm_min=51, tm_sec=42, tm_wday=2, tm_yday=337, tm_isdst=0)"
      ]
     },
     "execution_count": 6,
     "metadata": {},
     "output_type": "execute_result"
    }
   ],
   "source": [
    "time.gmtime()  #返回当前时间的 struct_time 形式，对应 UTC时区(0时区， GMT+0) ，可传入时间戳格式时间，用来做转化"
   ]
  },
  {
   "cell_type": "markdown",
   "metadata": {
    "slideshow": {
     "slide_type": "subslide"
    }
   },
   "source": [
    "时间格式的相互转化\n",
    "\n",
    "- `time.mktime()` 将一个以 `struct_time` 格式转换为时间戳"
   ]
  },
  {
   "cell_type": "code",
   "execution_count": 7,
   "metadata": {
    "slideshow": {
     "slide_type": "fragment"
    }
   },
   "outputs": [
    {
     "data": {
      "text/plain": [
       "1606899102.0"
      ]
     },
     "execution_count": 7,
     "metadata": {},
     "output_type": "execute_result"
    }
   ],
   "source": [
    "time.mktime(time.localtime())"
   ]
  },
  {
   "cell_type": "markdown",
   "metadata": {
    "slideshow": {
     "slide_type": "fragment"
    }
   },
   "source": [
    "- `time.strftime(format[,t])` 把一个 `struct_time` 时间转化为格式化的时间字符串。如果 `t` 未指定，将传入 `time.localtime()`。"
   ]
  },
  {
   "cell_type": "code",
   "execution_count": 8,
   "metadata": {
    "slideshow": {
     "slide_type": "fragment"
    }
   },
   "outputs": [
    {
     "data": {
      "text/plain": [
       "'Wed 2020-12-02 16:51:42'"
      ]
     },
     "execution_count": 8,
     "metadata": {},
     "output_type": "execute_result"
    }
   ],
   "source": [
    "time.strftime(\"%a %Y-%m-%d %H:%M:%S\", time.localtime())"
   ]
  },
  {
   "cell_type": "markdown",
   "metadata": {
    "slideshow": {
     "slide_type": "subslide"
    }
   },
   "source": [
    "时间转换的 `format` 参数：\n",
    "\n",
    "- %c 本地相应的日期和时间表示\n",
    "- %x 本地相应日期\n",
    "- %X 本地相应时间\n",
    "- %y 去掉世纪的年份（00 – 99）\n",
    "- **%Y 完整的年份**\n",
    "- **%m 月份（01 – 12）**\n",
    "- %b 本地简化月份名称\n",
    "- %B 本地完整月份名称\n",
    "- **%d 一个月中的第几天（01 – 31）**\n",
    "- **%j 一年中的第几天（001 – 366）**\n",
    "- %U 一年中的星期数。（00 – 53，星期天是一个星期的开始）第一个星期天之前的所有天数都放在第0周。\n",
    "- %W 和 %U 基本相同，不同的是 %W 以星期一为一个星期的开始。\n",
    "- %w 一个星期中的第几天（0 – 6，0是星期天）\n",
    "- %a 本地（locale）简化星期名称\n",
    "- %A 本地完整星期名称\n",
    "- **%H 一天中的第几个小时（24小时制，00 – 23）**\n",
    "- %I 第几个小时（12小时制，01 – 12）\n",
    "- %p 本地 am 或者 pm 的相应符，“%p” 只有与 “%I” 配合使用才有效果。\n",
    "- **%M 分钟数（00 – 59）**\n",
    "- **%S 秒（01 – 61），文档中强调确实是0 – 61，而不是59，闰年秒占两秒**\n",
    "- %Z 时区的名字（如果不存在为空字符）\n",
    "- %% ‘%’字符"
   ]
  },
  {
   "cell_type": "markdown",
   "metadata": {
    "slideshow": {
     "slide_type": "subslide"
    }
   },
   "source": [
    "- `time.strptime(string[,format])` 把一个格式化时间字符串转化为 `struct_time`，是 `strftime()` 的逆操作。"
   ]
  },
  {
   "cell_type": "code",
   "execution_count": 9,
   "metadata": {
    "slideshow": {
     "slide_type": "fragment"
    }
   },
   "outputs": [
    {
     "data": {
      "text/plain": [
       "time.struct_time(tm_year=2020, tm_mon=12, tm_mday=3, tm_hour=16, tm_min=20, tm_sec=0, tm_wday=3, tm_yday=338, tm_isdst=-1)"
      ]
     },
     "execution_count": 9,
     "metadata": {},
     "output_type": "execute_result"
    }
   ],
   "source": [
    "time.strptime('20201203T162000','%Y%m%dT%H%M%S')"
   ]
  },
  {
   "cell_type": "markdown",
   "metadata": {
    "slideshow": {
     "slide_type": "subslide"
    }
   },
   "source": [
    "计时器功能\n",
    "\n",
    "- `time.sleep(secs)`: 线程推迟指定的时间运行，单位为秒。\n",
    "    \n",
    "- `time.clock()`: 在不同的系统上含义不同。\n",
    "    - 在 UNIX 系统上，它返回的是“进程时间”，它是用秒表示的浮点数（时间戳）。\n",
    "    - 在 WINDOWS 中，第一次调用，返回的是进程运行的实际时间。而第二次之后的调用是自第一次调用以后到现在的运行时间。"
   ]
  },
  {
   "cell_type": "markdown",
   "metadata": {
    "slideshow": {
     "slide_type": "subslide"
    }
   },
   "source": [
    "-  因此，从 Python 3.3 开始，time.clock 就不建议使用了，并且在 Python 3.8 里删除了；建议使用 `time.perf_counter` \n",
    "或者`time.process_time`。\n",
    "-  两者返回值都以秒为单位，需要连续两次调用用来获得一个操作所消耗的时间。区别是 `time.perf_counter` \n",
    "包括 `time.sleep` 的时间，而 `time.process_time` 则不包括。"
   ]
  },
  {
   "cell_type": "code",
   "execution_count": 10,
   "metadata": {
    "slideshow": {
     "slide_type": "fragment"
    }
   },
   "outputs": [
    {
     "name": "stderr",
     "output_type": "stream",
     "text": [
      "/opt/miniconda3/lib/python3.7/site-packages/ipykernel_launcher.py:2: DeprecationWarning: time.clock has been deprecated in Python 3.3 and will be removed from Python 3.8: use time.perf_counter or time.process_time instead\n",
      "  \n"
     ]
    },
    {
     "name": "stdout",
     "output_type": "stream",
     "text": [
      "clock1: 0.837222\n"
     ]
    },
    {
     "name": "stderr",
     "output_type": "stream",
     "text": [
      "/opt/miniconda3/lib/python3.7/site-packages/ipykernel_launcher.py:4: DeprecationWarning: time.clock has been deprecated in Python 3.3 and will be removed from Python 3.8: use time.perf_counter or time.process_time instead\n",
      "  after removing the cwd from sys.path.\n"
     ]
    },
    {
     "name": "stdout",
     "output_type": "stream",
     "text": [
      "clock2: 0.838915\n",
      "clock2_perf: 3.421592317\n",
      "clock2_process: 0.839297\n",
      "clock3_perf: 4.422871397\n",
      "clock3_process: 0.84163\n"
     ]
    }
   ],
   "source": [
    "time.sleep(1)\n",
    "print(\"clock1: %s\" % time.clock())\n",
    "time.sleep(1)\n",
    "print(\"clock2: %s\" % time.clock())\n",
    "print(\"clock2_perf: %s\" % time.perf_counter())\n",
    "print(\"clock2_process: %s\" % time.process_time())\n",
    "time.sleep(1)\n",
    "print(\"clock3_perf: %s\" % time.perf_counter())\n",
    "print(\"clock3_process: %s\" % time.process_time())"
   ]
  },
  {
   "cell_type": "markdown",
   "metadata": {
    "slideshow": {
     "slide_type": "subslide"
    }
   },
   "source": [
    "#### `datetime` 模块\n",
    "\n",
    "- `datetime` 模块是 `time` 模块的高级包装，提供了更多实用的函数。\n",
    "\n",
    "- `Pandas` 的时间相关功能基本上来自 `datetime` 模块\n",
    "\n",
    "- `datetime` 模块定义了下面这几个类：\n",
    "\n",
    "  - `date`：表示日期的类。常用的属性有 `year`, `month`, `day`\n",
    "  - `time`：表示时间的类。常用的属性有 `hour`, `minute`, `second`, `microsecond`\n",
    "  - `datetime`：表示日期时间\n",
    "  - `timedelta`：表示时间间隔，即两个时间点之间的长度\n",
    "  - `tzinfo`：与时区有关的相关信息\n",
    "  \n",
    "注：上面这些类型的对象都是不可变（immutable）的。"
   ]
  },
  {
   "cell_type": "code",
   "execution_count": 11,
   "metadata": {
    "slideshow": {
     "slide_type": "subslide"
    }
   },
   "outputs": [
    {
     "data": {
      "text/plain": [
       "(datetime.date(2020, 12, 2), 2020, 12, 1)"
      ]
     },
     "execution_count": 11,
     "metadata": {},
     "output_type": "execute_result"
    }
   ],
   "source": [
    "import datetime as dt\n",
    "dt.date.today(), dt.date(2020,12,1).year, dt.date(2020,12,1).month, dt.date(2020,12,1).day"
   ]
  },
  {
   "cell_type": "code",
   "execution_count": 12,
   "metadata": {
    "slideshow": {
     "slide_type": "fragment"
    }
   },
   "outputs": [
    {
     "data": {
      "text/plain": [
       "(1, 2)"
      ]
     },
     "execution_count": 12,
     "metadata": {},
     "output_type": "execute_result"
    }
   ],
   "source": [
    "dt.date(2020,12,1).weekday(), dt.date(2020,12,1).isoweekday()"
   ]
  },
  {
   "cell_type": "code",
   "execution_count": 13,
   "metadata": {
    "slideshow": {
     "slide_type": "fragment"
    }
   },
   "outputs": [
    {
     "data": {
      "text/plain": [
       "False"
      ]
     },
     "execution_count": 13,
     "metadata": {},
     "output_type": "execute_result"
    }
   ],
   "source": [
    "day1 = dt.date(2020,12,1)\n",
    "day2 = dt.date.today()\n",
    "day1 > day2"
   ]
  },
  {
   "cell_type": "code",
   "execution_count": 14,
   "metadata": {
    "slideshow": {
     "slide_type": "fragment"
    }
   },
   "outputs": [
    {
     "data": {
      "text/plain": [
       "datetime.datetime(2020, 12, 2, 16, 51, 45, 342633)"
      ]
     },
     "execution_count": 14,
     "metadata": {},
     "output_type": "execute_result"
    }
   ],
   "source": [
    "dt.datetime.today() #datetime.datetime(year, month, day[, hour[, minute[, second[, microsecond[, tzinfo]]]]])"
   ]
  },
  {
   "cell_type": "code",
   "execution_count": 15,
   "metadata": {
    "slideshow": {
     "slide_type": "fragment"
    }
   },
   "outputs": [
    {
     "data": {
      "text/plain": [
       "datetime.datetime(2020, 12, 2, 8, 51, 45, 347585)"
      ]
     },
     "execution_count": 15,
     "metadata": {},
     "output_type": "execute_result"
    }
   ],
   "source": [
    "dt.datetime.utcnow()"
   ]
  },
  {
   "cell_type": "code",
   "execution_count": 16,
   "metadata": {
    "slideshow": {
     "slide_type": "fragment"
    }
   },
   "outputs": [
    {
     "data": {
      "text/plain": [
       "datetime.timedelta(days=1)"
      ]
     },
     "execution_count": 16,
     "metadata": {},
     "output_type": "execute_result"
    }
   ],
   "source": [
    "day2 - day1"
   ]
  },
  {
   "cell_type": "markdown",
   "metadata": {
    "slideshow": {
     "slide_type": "subslide"
    }
   },
   "source": [
    "`timedelta` 类\n",
    "\n",
    "`class datetime.timedelta([days[, seconds[, microseconds[, milliseconds[, minutes[, hours[, weeks]]]]]]])`"
   ]
  },
  {
   "cell_type": "code",
   "execution_count": 18,
   "metadata": {
    "slideshow": {
     "slide_type": "fragment"
    }
   },
   "outputs": [
    {
     "data": {
      "text/plain": [
       "datetime.timedelta(days=10)"
      ]
     },
     "execution_count": 18,
     "metadata": {},
     "output_type": "execute_result"
    }
   ],
   "source": [
    "dt.timedelta(10)"
   ]
  },
  {
   "cell_type": "code",
   "execution_count": 20,
   "metadata": {
    "slideshow": {
     "slide_type": "fragment"
    }
   },
   "outputs": [
    {
     "data": {
      "text/plain": [
       "datetime.date(2021, 1, 1)"
      ]
     },
     "execution_count": 20,
     "metadata": {},
     "output_type": "execute_result"
    }
   ],
   "source": [
    "dt.date.today() + dt.timedelta(days=30)"
   ]
  },
  {
   "cell_type": "code",
   "execution_count": 21,
   "metadata": {
    "slideshow": {
     "slide_type": "fragment"
    }
   },
   "outputs": [
    {
     "data": {
      "text/plain": [
       "datetime.datetime(2020, 12, 6, 21, 13, 7, 81153)"
      ]
     },
     "execution_count": 21,
     "metadata": {},
     "output_type": "execute_result"
    }
   ],
   "source": [
    "dt.datetime.now() + dt.timedelta(hours=100)"
   ]
  },
  {
   "cell_type": "markdown",
   "metadata": {
    "slideshow": {
     "slide_type": "subslide"
    }
   },
   "source": [
    "### 7.2 `Pandas` 时间相关功能"
   ]
  },
  {
   "cell_type": "code",
   "execution_count": null,
   "metadata": {},
   "outputs": [],
   "source": []
  },
  {
   "cell_type": "markdown",
   "metadata": {
    "slideshow": {
     "slide_type": "slide"
    }
   },
   "source": [
    "## References"
   ]
  },
  {
   "cell_type": "markdown",
   "metadata": {},
   "source": [
    "1.[https://www.biaodianfu.com/python-datetime.html](https://www.biaodianfu.com/python-datetime.html)\n",
    "\n",
    "2.[https://pandas.pydata.org/pandas-docs/stable/user_guide](https://pandas.pydata.org/pandas-docs/stable/user_guide)\n",
    "\n",
    "3.[https://github.com/datawhalechina/joyful-pandas](https://github.com/datawhalechina/joyful-pandas/tree/master/data)\n",
    "\n",
    "4.[https://github.com/hangsz/pandas-tutorial](https://github.com/hangsz/pandas-tutorial)"
   ]
  },
  {
   "cell_type": "code",
   "execution_count": null,
   "metadata": {},
   "outputs": [],
   "source": []
  }
 ],
 "metadata": {
  "celltoolbar": "Slideshow",
  "hide_code_all_hidden": false,
  "kernelspec": {
   "display_name": "Python 3",
   "language": "python",
   "name": "python3"
  },
  "language_info": {
   "codemirror_mode": {
    "name": "ipython",
    "version": 3
   },
   "file_extension": ".py",
   "mimetype": "text/x-python",
   "name": "python",
   "nbconvert_exporter": "python",
   "pygments_lexer": "ipython3",
   "version": "3.7.7"
  },
  "rise": {
   "enable_chalkboard": true,
   "header": "<table width='100%' cellspacing='0' cellpadding='0' border='0'><tr><td align='right' width='75%'>  </td><td align='right' width='25%'><img src='../sysu_logo.gif' align='right'/></td></tr></table>",
   "progress": true,
   "scroll": true,
   "theme": "serif",
   "transition": "slide"
  }
 },
 "nbformat": 4,
 "nbformat_minor": 4
}
