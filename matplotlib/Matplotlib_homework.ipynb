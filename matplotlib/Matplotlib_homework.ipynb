{
 "cells": [
  {
   "cell_type": "markdown",
   "metadata": {},
   "source": [
    "#  `Matplotlib` 作业"
   ]
  },
  {
   "cell_type": "markdown",
   "metadata": {},
   "source": [
    "## 1. 绘制如下动画\n",
    "\n",
    "![](movie3.gif)"
   ]
  },
  {
   "cell_type": "code",
   "execution_count": null,
   "metadata": {},
   "outputs": [],
   "source": [
    "import numpy as np\n",
    "import matplotlib.animation as animation \n",
    "import matplotlib.pyplot as plt\n",
    " \n",
    "fig, ax = plt.subplots(constrained_layout=True) \n",
    "\n",
    "x = np.arange(0, 2*np.pi, 0.01) \n",
    "y = np.sin(x) \n",
    "line, = ax.plot(x, y) \n",
    "dot, = ax.plot(x[0],y[0],marker='o',color='r') \n",
    "\n",
    "def init():  # only required for blitting to give a clean slate. \n",
    "    dot.set_data(np.nan,np.nan) \n",
    "    return dot, \n",
    " \n",
    "def animate(i): \n",
    "    # 你的代码\n",
    "    return dot, \n",
    "\n",
    "ani = animation.FuncAnimation(# 你的代码 ) \n",
    "\n",
    "ani.save(\"my_fancy_animation.gif\", dpi=80)                  "
   ]
  },
  {
   "cell_type": "markdown",
   "metadata": {},
   "source": [
    "## 2. 绘制如下图形\n",
    "![](layout.png)"
   ]
  },
  {
   "cell_type": "code",
   "execution_count": null,
   "metadata": {},
   "outputs": [],
   "source": [
    "import matplotlib.pyplot as plt\n",
    "import matplotlib as mpl\n",
    "\n",
    "# 请换成你的电脑上的字体文件\n",
    "myfont = mpl.font_manager.FontProperties(fname='/System/Library/Fonts/STHeiti Light.ttc')\n",
    "\n",
    "def format_axes(fig):\n",
    "    for i, ax in enumerate(fig.axes):\n",
    "        ax.text(0.5, 0.5, \"ax%d\" % (i+1), va=\"center\", ha=\"center\")\n",
    "        ax.tick_params(labelbottom=False, labelleft=False)\n",
    "        \n",
    "fig = plt.figure()\n",
    "gs = fig.add_gridspec(2, 3)\n",
    "# 你的代码\n",
    "\n",
    "format_axes(fig)\n",
    "plt.savefig('layout.png',dpi=100,bbox_inches='tight')"
   ]
  },
  {
   "cell_type": "code",
   "execution_count": null,
   "metadata": {},
   "outputs": [],
   "source": []
  }
 ],
 "metadata": {
  "kernelspec": {
   "display_name": "Python 3",
   "language": "python",
   "name": "python3"
  },
  "language_info": {
   "codemirror_mode": {
    "name": "ipython",
    "version": 3
   },
   "file_extension": ".py",
   "mimetype": "text/x-python",
   "name": "python",
   "nbconvert_exporter": "python",
   "pygments_lexer": "ipython3",
   "version": "3.7.6"
  }
 },
 "nbformat": 4,
 "nbformat_minor": 4
}
